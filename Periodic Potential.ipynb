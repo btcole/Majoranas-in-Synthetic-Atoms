{
 "cells": [
  {
   "cell_type": "code",
   "execution_count": 2,
   "metadata": {},
   "outputs": [],
   "source": [
    "import numpy as np\n",
    "import matplotlib.pyplot as plt\n",
    "from numpy import linalg as LA\n",
    "import matplotlib.lines as mlines\n",
    "from scipy import interpolate"
   ]
  },
  {
   "cell_type": "code",
   "execution_count": 3,
   "metadata": {},
   "outputs": [],
   "source": [
    "π = np.pi\n",
    "hbar = 6.58211899e-16           #h/2π in [eV*s]\n",
    "m0 = 9.10938215e-31             #electron mass in [kg]\n",
    "e0 = 1.602176487e-19            #electron charge in [C]\n",
    "ηm = (hbar**2*e0*10**20)/m0     #hbar^2/mo in [eV A^2]\n",
    "μB = 5.7883818066e-2            #in [meV/T]\n",
    "meVpK = 8.6173325e-2            #Kelvin into [meV]"
   ]
  },
  {
   "cell_type": "code",
   "execution_count": 18,
   "metadata": {},
   "outputs": [
    {
     "data": {
      "image/png": "[encoded data removed]",
      "text/plain": [
       "<Figure size 432x288 with 1 Axes>"
      ]
     },
     "metadata": {
      "needs_background": "light"
     },
     "output_type": "display_data"
    },
    {
     "name": "stderr",
     "output_type": "stream",
     "text": [
      "//anaconda3/lib/python3.7/site-packages/ipykernel_launcher.py:88: DeprecationWarning: elementwise comparison failed; this will raise an error in the future.\n"
     ]
    },
    {
     "ename": "TypeError",
     "evalue": "'bool' object is not iterable",
     "output_type": "error",
     "traceback": [
      "\u001b[0;31m---------------------------------------------------------------------------\u001b[0m",
      "\u001b[0;31mTypeError\u001b[0m                                 Traceback (most recent call last)",
      "\u001b[0;32m<ipython-input-18-c1868b9351e0>\u001b[0m in \u001b[0;36m<module>\u001b[0;34m\u001b[0m\n\u001b[1;32m     86\u001b[0m \u001b[0mplt\u001b[0m\u001b[0;34m.\u001b[0m\u001b[0mshow\u001b[0m\u001b[0;34m(\u001b[0m\u001b[0;34m)\u001b[0m\u001b[0;34m\u001b[0m\u001b[0;34m\u001b[0m\u001b[0m\n\u001b[1;32m     87\u001b[0m \u001b[0;34m\u001b[0m\u001b[0m\n\u001b[0;32m---> 88\u001b[0;31m \u001b[0;32mfor\u001b[0m \u001b[0mi\u001b[0m \u001b[0;32min\u001b[0m \u001b[0;34m(\u001b[0m\u001b[0mNN\u001b[0m \u001b[0;34m==\u001b[0m \u001b[0mnp\u001b[0m\u001b[0;34m.\u001b[0m\u001b[0mtranspose\u001b[0m\u001b[0;34m(\u001b[0m\u001b[0mNN2\u001b[0m\u001b[0;34m)\u001b[0m\u001b[0;34m)\u001b[0m\u001b[0;34m:\u001b[0m\u001b[0;34m\u001b[0m\u001b[0;34m\u001b[0m\u001b[0m\n\u001b[0m\u001b[1;32m     89\u001b[0m     \u001b[0;32mif\u001b[0m \u001b[0;34m(\u001b[0m\u001b[0mi\u001b[0m\u001b[0;34m.\u001b[0m\u001b[0many\u001b[0m\u001b[0;34m(\u001b[0m\u001b[0;34m)\u001b[0m\u001b[0;34m)\u001b[0m\u001b[0;34m!=\u001b[0m \u001b[0;32mTrue\u001b[0m\u001b[0;34m:\u001b[0m\u001b[0;34m\u001b[0m\u001b[0;34m\u001b[0m\u001b[0m\n\u001b[1;32m     90\u001b[0m         \u001b[0mprint\u001b[0m\u001b[0;34m(\u001b[0m\u001b[0;34m'Not equal'\u001b[0m\u001b[0;34m)\u001b[0m\u001b[0;34m\u001b[0m\u001b[0;34m\u001b[0m\u001b[0m\n",
      "\u001b[0;31mTypeError\u001b[0m: 'bool' object is not iterable"
     ]
    }
   ],
   "source": [
    "ax = 100.0  #unit cell size along x-direction in [A]\n",
    "ay = 100.0\n",
    "Ny = 10     #number of lattice sites in y direction\n",
    "Nx = 10     #number of lattice sites in x direction\n",
    "N = Ny*Nx\n",
    "\n",
    "#lattice array is Nx2, first column is array of x values in units of [A], second column is y values in units of [A]\n",
    "#NN_arr is Nx4, the columns store the index of the nearest neighbors. \n",
    "#Left: NN[n,0] = (n-Nx), Above: NN[n,1] = n+1, Right: NN[n, 2] = n+1, Down NN[n, 3] = n+Nx\n",
    "#if there is no lattice site in nearest neighbor spot, value is -1\n",
    "\n",
    "lattice = np.zeros((Nx, Ny))\n",
    "coor = np.zeros((N,2))\n",
    "NN_arr = np.zeros((N,4))\n",
    "\n",
    "#defining lattice\n",
    "for i in range(Ny):\n",
    "    for j in range(Nx):\n",
    "        lattice[i, j] = j + i*Ny\n",
    "        \n",
    "#defining coordinate array        \n",
    "for i in range(Nx):\n",
    "    for j in range(Ny):\n",
    "        n = i + Nx * j\n",
    "        x = (i) * ax\n",
    "        y = (j) * ay\n",
    "        coor[n,0] = x\n",
    "        coor[n,1] = y\n",
    "        \n",
    "#defining nearest neighbor array        \n",
    "def NN_Arr(c_arr, ax, ay):\n",
    "    N = c_arr.shape[0]\n",
    "    tol = 1e-8\n",
    "    NN = -1*np.ones((N,4), dtype = 'int')\n",
    "    for n in range(N):\n",
    "        for m in range(N):\n",
    "            xn = c_arr[n, 0]\n",
    "            xm = c_arr[m, 0]\n",
    "            yn = c_arr[n,1]\n",
    "            ym = c_arr[m,1]\n",
    "            \n",
    "            if abs((xn - xm) - ax)< tol and abs(yn - ym) < tol:\n",
    "                NN[n, 0] = m\n",
    "            if abs((xn - xm) + ax) < tol and abs(yn - ym) < tol:\n",
    "                NN[n, 2] = m\n",
    "            if abs((yn - ym) + ay) < tol and abs(xn - xm) < tol:\n",
    "                NN[n, 1] = m \n",
    "            if abs((yn - ym) - ay) < tol and abs(xn - xm) < tol:\n",
    "                NN[n, 3]= m\n",
    "    return NN\n",
    "\n",
    "#alternative algorithm to get NN array. Uses defined lattice sites for conditional statements, may be useful when changing\n",
    "# .. geometry\n",
    "\n",
    "count = 0\n",
    "NN2 = np.zeros((N,4))\n",
    "for i in range(len(lattice[0])):\n",
    "    for j in range(len(lattice[1])):\n",
    "        if j == 0:\n",
    "            NN[count, 0] = -1\n",
    "        else:\n",
    "            NN[count, 0] = lattice[i,j] - 1\n",
    "        if i == 0:\n",
    "            NN[count, 1] = -1\n",
    "        else:\n",
    "            NN[count, 1] = lattice[i,j] - Nx\n",
    "        if j == Nx-1:\n",
    "            NN[count, 2] = -1\n",
    "        else:\n",
    "            NN[count, 2] = lattice[i,j] + 1\n",
    "        if i == Nx-1:\n",
    "            NN[count, 3] = -1\n",
    "        else:\n",
    "            NN[count, 3] = lattice[i,j] + Nx\n",
    "        count += 1\n",
    "\n",
    "NN =   NN_Arr(coor, ax, ay) \n",
    "\n",
    "idx = 24\n",
    "plt.scatter(coor[:,0],coor[:,1],c = 'b')\n",
    "plt.scatter(coor[idx,0],coor[idx,1],c = 'r')\n",
    "plt.scatter(coor[NN[idx,0],0],coor[NN[idx,0],1],c = 'g')  \n",
    "plt.scatter(coor[NN[idx,1],0],coor[NN[idx,1],1],c = 'magenta')\n",
    "plt.scatter(coor[NN[idx,2],0],coor[NN[idx,2],1],c = 'purple') \n",
    "plt.scatter(coor[NN[idx,3],0],coor[NN[idx,3],1],c = 'cyan') \n",
    "plt.show()        \n",
    "    \n",
    "#for i in (NN == np.transpose(NN2)):\n",
    "#    if (i.any())!= True:\n",
    "#        print('Not equal')\n",
    "        \n",
    "#print(lattice)\n",
    "#print(NN[:,3])"
   ]
  },
  {
   "cell_type": "markdown",
   "metadata": {},
   "source": [
    "# Descritizing $k_x$ and $k_y$"
   ]
  },
  {
   "cell_type": "code",
   "execution_count": null,
   "metadata": {},
   "outputs": [],
   "source": []
  }
 ],
 "metadata": {
  "kernelspec": {
   "display_name": "Python 3",
   "language": "python",
   "name": "python3"
  },
  "language_info": {
   "codemirror_mode": {
    "name": "ipython",
    "version": 3
   },
   "file_extension": ".py",
   "mimetype": "text/x-python",
   "name": "python",
   "nbconvert_exporter": "python",
   "pygments_lexer": "ipython3",
   "version": "3.7.3"
  }
 },
 "nbformat": 4,
 "nbformat_minor": 2
}
